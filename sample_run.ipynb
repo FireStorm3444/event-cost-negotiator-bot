{
 "cells": [
  {
   "metadata": {
    "ExecuteTime": {
     "end_time": "2025-06-20T06:33:58.589993Z",
     "start_time": "2025-06-20T06:33:58.583818Z"
    }
   },
   "cell_type": "code",
   "source": [
    "from estimator import estimate_event_cost\n",
    "from negotiation_logic import negotiate_final_cost"
   ],
   "id": "e55eb5b56b70cf05",
   "outputs": [],
   "execution_count": 13
  },
  {
   "metadata": {
    "ExecuteTime": {
     "end_time": "2025-06-20T06:33:58.649502Z",
     "start_time": "2025-06-20T06:33:58.635048Z"
    }
   },
   "cell_type": "code",
   "source": [
    "# user inputs\n",
    "selected_services = ['Venue', 'Catering', 'Photography']\n",
    "guest_count = 100\n",
    "event_season = 'off_season'  # options: 'regular', 'off_season'\n",
    "early_booking = True  # True or False"
   ],
   "id": "c4a528c6e89867d7",
   "outputs": [],
   "execution_count": 14
  },
  {
   "metadata": {
    "ExecuteTime": {
     "end_time": "2025-06-20T06:33:58.688300Z",
     "start_time": "2025-06-20T06:33:58.676470Z"
    }
   },
   "cell_type": "code",
   "source": [
    "# Calculate estimated cost\n",
    "estimation = estimate_event_cost(\n",
    "    services_selected=selected_services,\n",
    "    guest_count=guest_count,\n",
    "    event_season=event_season,\n",
    "    early_booking=early_booking\n",
    ")"
   ],
   "id": "545973a18038dae",
   "outputs": [],
   "execution_count": 15
  },
  {
   "metadata": {
    "ExecuteTime": {
     "end_time": "2025-06-20T06:33:58.722699Z",
     "start_time": "2025-06-20T06:33:58.713687Z"
    }
   },
   "cell_type": "code",
   "source": [
    "print(\"Initial Cost Estimation:\\n\")\n",
    "for service, data in estimation.items():\n",
    "    if isinstance(data, dict) and 'base_cost' in data:\n",
    "        print(f\"{service}: Rs.{data['base_cost']} (Flexibility: {data['flexibility']})\")"
   ],
   "id": "c98db14251c9a3c8",
   "outputs": [
    {
     "name": "stdout",
     "output_type": "stream",
     "text": [
      "Initial Cost Estimation:\n",
      "\n",
      "Venue: Rs.50000 (Flexibility: 6)\n",
      "Catering: Rs.60000 (Flexibility: 6)\n",
      "Photography: Rs.15000 (Flexibility: 7)\n"
     ]
    }
   ],
   "execution_count": 16
  },
  {
   "metadata": {
    "ExecuteTime": {
     "end_time": "2025-06-20T06:33:58.796366Z",
     "start_time": "2025-06-20T06:33:58.789038Z"
    }
   },
   "cell_type": "code",
   "source": [
    "print(f\"\\nTotal Base Cost: Rs.{estimation['total_base_cost']}\")\n",
    "print(f\"Early Booking: {estimation['early_booking']}\")\n",
    "print(f\"Season: {estimation['event_season'].replace('_', ' ').title()}\")"
   ],
   "id": "1470f21a0001414d",
   "outputs": [
    {
     "name": "stdout",
     "output_type": "stream",
     "text": [
      "\n",
      "Total Base Cost: Rs.125000\n",
      "Early Booking: True\n",
      "Season: Off Season\n"
     ]
    }
   ],
   "execution_count": 17
  },
  {
   "metadata": {
    "ExecuteTime": {
     "end_time": "2025-06-20T06:33:58.872810Z",
     "start_time": "2025-06-20T06:33:58.866444Z"
    }
   },
   "cell_type": "code",
   "source": [
    "# run negotiation\n",
    "result = negotiate_final_cost(estimation)"
   ],
   "id": "53f2fbab3de80daf",
   "outputs": [],
   "execution_count": 18
  },
  {
   "metadata": {
    "ExecuteTime": {
     "end_time": "2025-06-20T06:33:58.934206Z",
     "start_time": "2025-06-20T06:33:58.920727Z"
    }
   },
   "cell_type": "code",
   "source": [
    "# print all the price details\n",
    "print(\"\\nNegotiation Details:\\n\")\n",
    "for msg in result:\n",
    "    print(msg)"
   ],
   "id": "79288a9f44688851",
   "outputs": [
    {
     "name": "stdout",
     "output_type": "stream",
     "text": [
      "\n",
      "Negotiation Details:\n",
      "\n",
      "Venue: base Rs.50000 → discount Rs.5000 (flexibility 6)\n",
      "Catering: base Rs.60000 → discount Rs.6000 (flexibility 6)\n",
      "Photography: base Rs.15000 → discount Rs.1500 (flexibility 7)\n",
      "\n",
      "Base Total: Rs.125000\n",
      "Final Total (After Negotiations): Rs.112500\n",
      "\n",
      "Global Discounts Applied (Early Booking: 10%, Off Season: 8%): 18% → Rs.20250\n",
      "\n",
      "🧾 Final Estimated Cost: Rs.92250\n"
     ]
    }
   ],
   "execution_count": 19
  }
 ],
 "metadata": {
  "kernelspec": {
   "display_name": "Python 3",
   "language": "python",
   "name": "python3"
  },
  "language_info": {
   "codemirror_mode": {
    "name": "ipython",
    "version": 2
   },
   "file_extension": ".py",
   "mimetype": "text/x-python",
   "name": "python",
   "nbconvert_exporter": "python",
   "pygments_lexer": "ipython2",
   "version": "2.7.6"
  }
 },
 "nbformat": 4,
 "nbformat_minor": 5
}
